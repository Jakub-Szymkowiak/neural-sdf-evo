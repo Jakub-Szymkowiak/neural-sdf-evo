{
 "cells": [
  {
   "cell_type": "markdown",
   "metadata": {},
   "source": [
    "### Imports & Settings"
   ]
  },
  {
   "cell_type": "code",
   "execution_count": 95,
   "metadata": {},
   "outputs": [],
   "source": [
    "import torch\n",
    "\n",
    "from torch import nn, optim\n",
    "\n",
    "from torch.utils.data import DataLoader, TensorDataset\n",
    "\n",
    "import numpy as np\n",
    "\n",
    "import matplotlib.pyplot as plt\n",
    "import matplotlib.colors\n",
    "\n",
    "from matplotlib.backends.backend_agg import FigureCanvasAgg as FigureCanvas\n",
    "\n",
    "import cv2\n",
    "\n",
    "import copy\n",
    "import time"
   ]
  },
  {
   "cell_type": "code",
   "execution_count": 96,
   "metadata": {},
   "outputs": [
    {
     "name": "stdout",
     "output_type": "stream",
     "text": [
      "2.2.0+cu121\n",
      "cuda\n"
     ]
    }
   ],
   "source": [
    "torch.manual_seed(123)\n",
    "device = 'cuda' if torch.cuda.is_available() else 'cpu'\n",
    "print(torch.__version__)\n",
    "print(device)"
   ]
  },
  {
   "cell_type": "markdown",
   "metadata": {},
   "source": [
    "### Modules"
   ]
  },
  {
   "cell_type": "code",
   "execution_count": 97,
   "metadata": {},
   "outputs": [],
   "source": [
    "class SineActivation(nn.Module):\n",
    "    def __init__(self):\n",
    "        super(SineActivation, self).__init__()\n",
    "        \n",
    "    def forward(self, x):\n",
    "        return torch.sin(x)"
   ]
  },
  {
   "cell_type": "code",
   "execution_count": 98,
   "metadata": {},
   "outputs": [],
   "source": [
    "class FullyConnected(nn.Module):\n",
    "    '''\n",
    "    Builds a fully connected neural network from a list of layer sizes and an optional activation function.\n",
    "    \n",
    "    Args:\n",
    "        fc_sizes (list): Sizes of each layer in the network.\n",
    "        activation (nn.Module): Activation function applied between layers, defaults to SineActivation.\n",
    "    '''\n",
    "    def __init__(self, fc_sizes: list, activation=SineActivation):\n",
    "        super(FullyConnected, self).__init__()\n",
    "        \n",
    "        layers = []\n",
    "        for size_in, size_out in zip(fc_sizes[:-1], fc_sizes[1:-1]):\n",
    "            layers.append(nn.Linear(size_in, size_out))\n",
    "            layers.append(activation())\n",
    "        \n",
    "        layers.append(nn.Linear(fc_sizes[-2], fc_sizes[-1]))\n",
    "        \n",
    "        self.model = nn.Sequential(*layers)\n",
    "    \n",
    "    def forward(self, x):\n",
    "        return self.model(x)"
   ]
  },
  {
   "cell_type": "markdown",
   "metadata": {},
   "source": [
    "### Utils"
   ]
  },
  {
   "cell_type": "code",
   "execution_count": 99,
   "metadata": {},
   "outputs": [],
   "source": [
    "def timer(func):\n",
    "    '''\n",
    "    Decorator to measure and print the execution time of the decorated function.\n",
    "\n",
    "    Args:\n",
    "        func (callable): Function to measure.\n",
    "\n",
    "    Returns:\n",
    "        callable: Wrapped function with timing.\n",
    "    '''\n",
    "    def wrapper(*args, **kwargs):\n",
    "        start_time = time.time()\n",
    "        result = func(*args, **kwargs)\n",
    "        end_time = time.time()\n",
    "        print(f'Executed in {end_time - start_time} seconds.')\n",
    "        return result\n",
    "    return wrapper"
   ]
  },
  {
   "cell_type": "code",
   "execution_count": 100,
   "metadata": {},
   "outputs": [],
   "source": [
    "def get_normal_field(f):\n",
    "    def normal_field(x):\n",
    "        '''\n",
    "        Compute the normal to the implicit surface represented by a predetermined neural signed distance field.\n",
    "\n",
    "        Args:\n",
    "            x (torch.Tensor): A tensor representing a vector in the input space where the normal will be computed.\n",
    "\n",
    "        Returns:\n",
    "            torch.Tensor: The normal to the zero-level set of the neural field at point `x`, normalized to unit length.\n",
    "        '''\n",
    "        x = x.requires_grad_(True) \n",
    "\n",
    "        f_value = f(x)\n",
    "        grad = torch.autograd.grad(\n",
    "            outputs=f_value, \n",
    "            inputs=x, \n",
    "            grad_outputs=torch.ones_like(f_value),\n",
    "            create_graph=True)[0]\n",
    "        normal = grad / torch.sqrt(torch.sum(grad ** 2))\n",
    "\n",
    "        return normal\n",
    "    return normal_field\n"
   ]
  },
  {
   "cell_type": "code",
   "execution_count": 103,
   "metadata": {},
   "outputs": [],
   "source": [
    "def get_sphere_sdf(r):\n",
    "    def sphere_sdf(x):\n",
    "        '''\n",
    "        Computes the signed distance from the point `x` to a sphere centered at the origin with radius `r`.\n",
    "\n",
    "        Args:\n",
    "            x (torch.Tensor): A tensor representing a point in space.\n",
    "\n",
    "        Returns:\n",
    "            float: The signed distance from the point `x` to the surface of the sphere.\n",
    "        '''\n",
    "        return torch.sum(x ** 2, dim=-1) - r ** 2\n",
    "    return sphere_sdf"
   ]
  },
  {
   "cell_type": "code",
   "execution_count": 104,
   "metadata": {},
   "outputs": [],
   "source": [
    "def get_star_sdf(r, n, m):\n",
    "    def star_sdf(x):      \n",
    "        an = torch.tensor(torch.pi / n, device=x.device)\n",
    "        en = torch.tensor(torch.pi / m, device=x.device)\n",
    "        \n",
    "        acs = torch.tensor([torch.cos(an), torch.sin(an)], dtype=torch.float32, device=x.device)\n",
    "        ecs = torch.tensor([torch.cos(en), torch.sin(en)], dtype=torch.float32, device=x.device)\n",
    "        \n",
    "        bn = torch.atan2(x[..., 1], x[..., 0]) % (2.0 * an) - an\n",
    "        x = torch.norm(x, dim=-1, keepdim=True) * torch.cat((torch.cos(bn).unsqueeze(-1), torch.abs(torch.sin(bn)).unsqueeze(-1)), dim=-1)\n",
    "        \n",
    "        x = x - r * acs\n",
    "        dot_product = torch.sum(x * ecs, dim=-1, keepdim=True)\n",
    "        x = x + ecs * torch.clamp(-dot_product, 0.0, r * acs[1] / ecs[1])\n",
    "        \n",
    "        return torch.norm(x, dim=-1) * torch.sign(x[..., 0])\n",
    "    return star_sdf"
   ]
  },
  {
   "cell_type": "code",
   "execution_count": 105,
   "metadata": {},
   "outputs": [],
   "source": [
    "def make_annular(sdf_func, r):\n",
    "    def onion_sdf(pos):\n",
    "        sdf_values = sdf_func(pos)\n",
    "        return torch.abs(sdf_values) - r\n",
    "    return onion_sdf"
   ]
  },
  {
   "cell_type": "code",
   "execution_count": 106,
   "metadata": {},
   "outputs": [],
   "source": [
    "def create_grid(res=100):\n",
    "    '''\n",
    "    Returns a grid of 2D points and the corresponding x, y meshgrid arrays.\n",
    "\n",
    "    Args:\n",
    "        res (int): The resolution of the grid, default is 100.\n",
    "\n",
    "    Returns:\n",
    "        grid (torch.Tensor): Flattened grid coordinates.\n",
    "        x (torch.Tensor): X coordinates of the meshgrid.\n",
    "        y (torch.Tensor): Y coordinates of the meshgrid.\n",
    "    '''\n",
    "    p = torch.linspace(-1, 1, res)\n",
    "    x, y = torch.meshgrid(p, p, indexing='xy')\n",
    "    grid = torch.stack((x.flatten(), y.flatten()), dim=-1).to(device)\n",
    "    return grid, x, y"
   ]
  },
  {
   "cell_type": "code",
   "execution_count": 107,
   "metadata": {},
   "outputs": [],
   "source": [
    "def plot_sdf(net, res=100, contour_lines=15, colormap='RdBu'):\n",
    "    '''\n",
    "    Visualizes the SDF generated by a neural network over a fixed range from -1 to 1 for both x and y axes.\n",
    "\n",
    "    Args:\n",
    "        net (torch.nn.Module): Neural network model to generate SDF values.\n",
    "        res (int): Number of points along each axis (res x res grid).\n",
    "        contour_lines (int): Number of contour lines in the plot.\n",
    "        colormap (str): Colormap used for visualization.\n",
    "    '''\n",
    "    grid, x, y = create_grid(res)\n",
    "\n",
    "    with torch.no_grad():\n",
    "        z = net(grid).view(res, res).cpu()\n",
    "\n",
    "    fig, ax = plt.subplots()\n",
    "\n",
    "    max_abs_value = max(abs(z.min()), abs(z.max()))\n",
    "    contour_levels = torch.linspace(-max_abs_value, max_abs_value, contour_lines)\n",
    "    \n",
    "    c = ax.contourf(\n",
    "        x.numpy(), y.numpy(), z.numpy(), \n",
    "        levels=contour_levels.numpy(), \n",
    "        cmap=colormap, \n",
    "        origin='lower')\n",
    "    plt.colorbar(c, ax=ax)\n",
    "    \n",
    "    ax.contour(x.numpy(), y.numpy(), z.numpy(), levels=[0], colors='black', linewidths=2)\n",
    "    ax.set_aspect('equal', 'box')\n",
    "    \n",
    "    plt.show()"
   ]
  },
  {
   "cell_type": "code",
   "execution_count": 108,
   "metadata": {},
   "outputs": [],
   "source": [
    "def generate_sdf_video(net, total_time_steps=100, res=200, fps=10):\n",
    "    fourcc = cv2.VideoWriter_fourcc(*'mp4v') \n",
    "    out = cv2.VideoWriter('sdf_evolution.mp4', fourcc, fps, (2*res, 2*res))\n",
    "\n",
    "    grid, x, y = create_grid(res)\n",
    "\n",
    "    dpi = 100  \n",
    "    figsize = (2*res / dpi, 2*res / dpi)  \n",
    "\n",
    "    for t in torch.linspace(0, 1, total_time_steps):\n",
    "        with torch.no_grad():\n",
    "            grid_t = torch.cat((grid.cpu(), t.repeat(grid.size(0), 1)), dim=1).to(device)\n",
    "            z = net(grid_t).view(res, res).cpu()\n",
    "\n",
    "        fig, ax = plt.subplots(figsize=figsize)\n",
    "        max_abs_value = max(abs(z.min()), abs(z.max()))\n",
    "        contour_levels = torch.linspace(-max_abs_value, max_abs_value, 15)\n",
    "\n",
    "        ax.contourf(x.numpy(), y.numpy(), z.numpy(), levels=contour_levels.numpy(), cmap='RdBu')\n",
    "        ax.contour(x.numpy(), y.numpy(), z.numpy(), levels=[0], colors='black', linewidths=2)\n",
    "        ax.set_aspect('equal', 'box')\n",
    "        ax.axis('off')  \n",
    "\n",
    "        fig.canvas.draw()\n",
    "        img = np.frombuffer(fig.canvas.tostring_rgb(), dtype=np.uint8)\n",
    "        img = img.reshape(fig.canvas.get_width_height()[::-1] + (3,))\n",
    "        img = cv2.cvtColor(img, cv2.COLOR_RGB2BGR)\n",
    "\n",
    "        plt.close(fig)\n",
    "        out.write(img)"
   ]
  },
  {
   "cell_type": "code",
   "execution_count": null,
   "metadata": {},
   "outputs": [],
   "source": [
    "V_layers = [3, 64, 64, 64, 64, 64, 64, 64, 64, 1]\n",
    "V = FullyConnected(V_layers)"
   ]
  },
  {
   "cell_type": "code",
   "execution_count": null,
   "metadata": {},
   "outputs": [],
   "source": [
    "pinn_layers = [3, 1024, 1024, 1024, 1024, 512, 512, 256, 128, 1]\n",
    "pinn = FullyConnected(pinn_layers).to(device)"
   ]
  }
 ],
 "metadata": {
  "kernelspec": {
   "display_name": "base",
   "language": "python",
   "name": "python3"
  },
  "language_info": {
   "codemirror_mode": {
    "name": "ipython",
    "version": 3
   },
   "file_extension": ".py",
   "mimetype": "text/x-python",
   "name": "python",
   "nbconvert_exporter": "python",
   "pygments_lexer": "ipython3",
   "version": "3.10.14"
  }
 },
 "nbformat": 4,
 "nbformat_minor": 2
}
